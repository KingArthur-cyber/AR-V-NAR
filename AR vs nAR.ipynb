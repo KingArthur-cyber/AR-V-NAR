{
 "cells": [
  {
   "cell_type": "code",
   "execution_count": 1,
   "id": "538c1e34",
   "metadata": {},
   "outputs": [
    {
     "name": "stdout",
     "output_type": "stream",
     "text": [
      "Executing op VarHandleOp in device /job:localhost/replica:0/task:0/device:CPU:0\n",
      "Executing op AssignVariableOp in device /job:localhost/replica:0/task:0/device:CPU:0\n",
      "Executing op VarHandleOp in device /job:localhost/replica:0/task:0/device:CPU:0\n",
      "Executing op AssignVariableOp in device /job:localhost/replica:0/task:0/device:CPU:0\n",
      "Executing op VarHandleOp in device /job:localhost/replica:0/task:0/device:CPU:0\n",
      "Executing op AssignVariableOp in device /job:localhost/replica:0/task:0/device:CPU:0\n",
      "Executing op VarHandleOp in device /job:localhost/replica:0/task:0/device:CPU:0\n",
      "Executing op AssignVariableOp in device /job:localhost/replica:0/task:0/device:CPU:0\n",
      "Executing op _EagerConst in device /job:localhost/replica:0/task:0/device:CPU:0\n",
      "Executing op VarHandleOp in device /job:localhost/replica:0/task:0/device:CPU:0\n",
      "Executing op AssignVariableOp in device /job:localhost/replica:0/task:0/device:CPU:0\n",
      "Executing op _EagerConst in device /job:localhost/replica:0/task:0/device:CPU:0\n",
      "Executing op _EagerConst in device /job:localhost/replica:0/task:0/device:CPU:0\n",
      "Executing op Cast in device /job:localhost/replica:0/task:0/device:CPU:0\n",
      "Executing op _EagerConst in device /job:localhost/replica:0/task:0/device:CPU:0\n",
      "Executing op ReadVariableOp in device /job:localhost/replica:0/task:0/device:CPU:0\n",
      "Executing op Cast in device /job:localhost/replica:0/task:0/device:CPU:0\n",
      "Executing op RealDiv in device /job:localhost/replica:0/task:0/device:CPU:0\n",
      "Executing op Pow in device /job:localhost/replica:0/task:0/device:CPU:0\n",
      "Executing op Mul in device /job:localhost/replica:0/task:0/device:CPU:0\n",
      "Executing op VarHandleOp in device /job:localhost/replica:0/task:0/device:CPU:0\n",
      "Executing op AssignVariableOp in device /job:localhost/replica:0/task:0/device:CPU:0\n",
      "Executing op VarHandleOp in device /job:localhost/replica:0/task:0/device:CPU:0\n",
      "Executing op AssignVariableOp in device /job:localhost/replica:0/task:0/device:CPU:0\n",
      "Executing op _EagerConst in device /job:localhost/replica:0/task:0/device:CPU:0\n",
      "Executing op VarHandleOp in device /job:localhost/replica:0/task:0/device:CPU:0\n",
      "Executing op AssignVariableOp in device /job:localhost/replica:0/task:0/device:CPU:0\n",
      "Executing op VarHandleOp in device /job:localhost/replica:0/task:0/device:CPU:0\n",
      "Executing op AssignVariableOp in device /job:localhost/replica:0/task:0/device:CPU:0\n",
      "Executing op Cast in device /job:localhost/replica:0/task:0/device:CPU:0\n",
      "Executing op ReadVariableOp in device /job:localhost/replica:0/task:0/device:CPU:0\n",
      "Executing op Cast in device /job:localhost/replica:0/task:0/device:CPU:0\n",
      "Executing op RealDiv in device /job:localhost/replica:0/task:0/device:CPU:0\n",
      "Executing op Pow in device /job:localhost/replica:0/task:0/device:CPU:0\n",
      "Executing op Mul in device /job:localhost/replica:0/task:0/device:CPU:0\n",
      "Executing op VarHandleOp in device /job:localhost/replica:0/task:0/device:CPU:0\n",
      "Executing op AssignVariableOp in device /job:localhost/replica:0/task:0/device:CPU:0\n",
      "Executing op VarHandleOp in device /job:localhost/replica:0/task:0/device:CPU:0\n",
      "Executing op AssignVariableOp in device /job:localhost/replica:0/task:0/device:CPU:0\n",
      "Executing op VarHandleOp in device /job:localhost/replica:0/task:0/device:CPU:0\n",
      "Executing op AssignVariableOp in device /job:localhost/replica:0/task:0/device:CPU:0\n",
      "Executing op VarHandleOp in device /job:localhost/replica:0/task:0/device:CPU:0\n",
      "Executing op AssignVariableOp in device /job:localhost/replica:0/task:0/device:CPU:0\n",
      "Executing op _EagerConst in device /job:localhost/replica:0/task:0/device:CPU:0\n",
      "Executing op VarHandleOp in device /job:localhost/replica:0/task:0/device:CPU:0\n",
      "Executing op AssignVariableOp in device /job:localhost/replica:0/task:0/device:CPU:0\n",
      "Executing op VarHandleOp in device /job:localhost/replica:0/task:0/device:CPU:0\n",
      "Executing op AssignVariableOp in device /job:localhost/replica:0/task:0/device:CPU:0\n",
      "Executing op Cast in device /job:localhost/replica:0/task:0/device:CPU:0\n",
      "Executing op ReadVariableOp in device /job:localhost/replica:0/task:0/device:CPU:0\n",
      "Executing op Cast in device /job:localhost/replica:0/task:0/device:CPU:0\n",
      "Executing op RealDiv in device /job:localhost/replica:0/task:0/device:CPU:0\n",
      "Executing op Pow in device /job:localhost/replica:0/task:0/device:CPU:0\n",
      "Executing op Mul in device /job:localhost/replica:0/task:0/device:CPU:0\n",
      "Executing op VarHandleOp in device /job:localhost/replica:0/task:0/device:CPU:0\n",
      "Executing op AssignVariableOp in device /job:localhost/replica:0/task:0/device:CPU:0\n",
      "Executing op VarHandleOp in device /job:localhost/replica:0/task:0/device:CPU:0\n",
      "Executing op AssignVariableOp in device /job:localhost/replica:0/task:0/device:CPU:0\n",
      "Executing op VarHandleOp in device /job:localhost/replica:0/task:0/device:CPU:0\n",
      "Executing op AssignVariableOp in device /job:localhost/replica:0/task:0/device:CPU:0\n",
      "Executing op VarHandleOp in device /job:localhost/replica:0/task:0/device:CPU:0\n",
      "Executing op AssignVariableOp in device /job:localhost/replica:0/task:0/device:CPU:0\n"
     ]
    }
   ],
   "source": [
    "%load_ext autoreload\n",
    "\n",
    "import sys\n",
    "import os\n",
    "import csv\n",
    "import numpy as np\n",
    "import pandas as pd\n",
    "\n",
    "from sklearn.feature_selection import mutual_info_classif\n",
    "from sklearn.metrics import roc_curve, confusion_matrix\n",
    "from sklearn.model_selection import train_test_split\n",
    "from sklearn.metrics import make_scorer, matthews_corrcoef\n",
    "from sklearn.preprocessing import StandardScaler\n",
    "from sklearn.svm import LinearSVC\n",
    "from sklearn.ensemble import ExtraTreesClassifier\n",
    "\n",
    "sys.path.append('../../src/')\n",
    "from propythia.sequence import ReadSequence\n",
    "from propythia.descriptors import Descriptor\n",
    "from propythia.preprocess import Preprocess\n",
    "from propythia.feature_selection import FeatureSelection\n",
    "from propythia.deep_ml import DeepML"
   ]
  },
  {
   "cell_type": "code",
   "execution_count": 2,
   "id": "22eb481f",
   "metadata": {},
   "outputs": [],
   "source": [
    "from propythia.shallow_ml import ShallowML"
   ]
  },
  {
   "cell_type": "code",
   "execution_count": 3,
   "id": "588bf9e7",
   "metadata": {},
   "outputs": [],
   "source": [
    "ar_feat = pd.read_csv('real_datasets/ar_feat.csv')\n",
    "non_ar_feat = pd.read_csv('real_datasets/non_ar_feat.csv')"
   ]
  },
  {
   "cell_type": "code",
   "execution_count": 4,
   "id": "c585d9ff",
   "metadata": {},
   "outputs": [
    {
     "name": "stdout",
     "output_type": "stream",
     "text": [
      "(4656, 642)\n",
      "(13968, 642)\n"
     ]
    }
   ],
   "source": [
    "ar_feat['label'] = 1\n",
    "non_ar_feat['label'] = 0\n",
    "\n",
    "print(ar_feat.shape)\n",
    "print(non_ar_feat.shape)\n",
    "\n",
    "ar_feat.to_csv('real_datasets/ar_feat.csv', index = False)\n",
    "non_ar_feat.to_csv('real_datasets/non_ar_feat.csv', index = False)"
   ]
  },
  {
   "cell_type": "code",
   "execution_count": 5,
   "id": "f4367998",
   "metadata": {},
   "outputs": [
    {
     "name": "stdout",
     "output_type": "stream",
     "text": [
      "(18624, 105)\n"
     ]
    }
   ],
   "source": [
    "dataset = pd.concat([ar_feat, non_ar_feat])\n",
    "dataset = dataset.sample(frac=1)\n",
    "fps_y = dataset['label']\n",
    "fps_x = dataset.loc[:, dataset.columns != 'label']\n",
    "fps_x = fps_x.filter(regex=r'_.+D\\d', axis=1)  # select just CTD D feature 105 columns\n",
    "print(fps_x.shape)"
   ]
  },
  {
   "cell_type": "code",
   "execution_count": 6,
   "id": "2ab129e5",
   "metadata": {},
   "outputs": [
    {
     "name": "stdout",
     "output_type": "stream",
     "text": [
      "performing gridSearch...\n",
      "GridSearchCV took 39.29 seconds for 1 candidate parameter settings.\n",
      "GridSearchCV(cv=10,\n",
      "             estimator=Pipeline(steps=[('scl', None),\n",
      "                                       ('clf',\n",
      "                                        RandomForestClassifier(random_state=1))]),\n",
      "             n_jobs=10,\n",
      "             param_grid=[{'clf__max_features': ['sqrt'],\n",
      "                          'clf__n_estimators': [100]}],\n",
      "             scoring=make_scorer(matthews_corrcoef))\n",
      "Model with rank: 1\n",
      " Mean validation score: 0.943 (std: 0.013)\n",
      " Parameters: {'clf__max_features': 'sqrt', 'clf__n_estimators': 100}\n",
      " \n",
      "\n",
      "make_scorer(matthews_corrcoef)\n",
      "10\n",
      "Best score (scorer: make_scorer(matthews_corrcoef)) and parameters from a 10-fold cross validation:\n",
      " MCC score:\t0.943\n",
      " Parameters:\t{'clf__max_features': 'sqrt', 'clf__n_estimators': 100}\n",
      "\n",
      "0.942749 (0.012616) with: {'clf__max_features': 'sqrt', 'clf__n_estimators': 100}\n",
      "  clf__max_features  clf__n_estimators     means      stds\n",
      "0              sqrt                100  0.942749  0.012616\n"
     ]
    }
   ],
   "source": [
    "X_train, X_test, y_train, y_test = train_test_split(fps_x, fps_y, stratify=fps_y)\n",
    "\n",
    "# standard scaler article does not refer scaling and do not validate in x_test, however, we do it anyway\n",
    "scaler = StandardScaler().fit(X_train)\n",
    "X_train = scaler.transform(X_train)\n",
    "X_test = scaler.transform(X_test)\n",
    "\n",
    "# open a ShallowML object\n",
    "ml = ShallowML(X_train, X_test, y_train, y_test, report_name=None, columns_names=fps_x.columns)\n",
    "#define param grid as article, here we will search in 100, 200 and 500 estimators\n",
    "param_grid = [{'clf__n_estimators': [100], 'clf__max_features': ['sqrt']}]\n",
    "# train_best_model will perform a GRIDSEARCHCV optimizing MCC with a cv = 10\n",
    "best_rf_model = ml.train_best_model(model_name = 'rf',model='rf', score=make_scorer(matthews_corrcoef), param_grid=param_grid, cv=10)"
   ]
  },
  {
   "cell_type": "code",
   "execution_count": 7,
   "id": "b7394ae6",
   "metadata": {},
   "outputs": [
    {
     "name": "stdout",
     "output_type": "stream",
     "text": [
      "              precision    recall  f1-score   support\n",
      "\n",
      "           0       0.97      1.00      0.98      3492\n",
      "           1       1.00      0.91      0.95      1164\n",
      "\n",
      "    accuracy                           0.98      4656\n",
      "   macro avg       0.98      0.95      0.97      4656\n",
      "weighted avg       0.98      0.98      0.98      4656\n",
      "\n",
      "[[3490    2]\n",
      " [ 105 1059]]\n"
     ]
    },
    {
     "data": {
      "text/plain": [
       "{'Accuracy': 0.9770189003436426,\n",
       " 'MCC': 0.9385900867750211,\n",
       " 'log_loss': 0.09947938003984533,\n",
       " 'f1 score': 0.9519101123595506,\n",
       " 'roc_auc': 0.9546105383734249,\n",
       " 'Precision': array([0.25      , 0.99811499, 1.        ]),\n",
       " 'Recall': array([1.        , 0.90979381, 0.        ]),\n",
       " 'fdr': 0.001885014137606032,\n",
       " 'sn': 0.9097938144329897,\n",
       " 'sp': 0.9994272623138603}"
      ]
     },
     "execution_count": 7,
     "metadata": {},
     "output_type": "execute_result"
    }
   ],
   "source": [
    "#get the scores for testset\n",
    "scores, report, cm, cm2 = ml.score_testset(best_rf_model)\n",
    "print(report)\n",
    "print(cm)\n",
    "scores"
   ]
  },
  {
   "cell_type": "code",
   "execution_count": 8,
   "id": "6bf86cf1",
   "metadata": {},
   "outputs": [
    {
     "data": {
      "text/plain": [
       "\"\\n# multiple metrics\\ndef sp(y_test, y_pred):\\n    tn, fp, fn, tp = confusion_matrix(y_test, y_pred).ravel()\\n    fdr = float(fp) / (tp + fp)\\n    sn = float(tp) / (tp + fn)\\n    sp = float(tn) / (tn + fp)\\n    return sp\\n\\n\\ndef sn(y_test, y_pred):\\n    tn, fp, fn, tp = confusion_matrix(y_test, y_pred).ravel()\\n    fdr = float(fp) / (tp + fp)\\n    sn = float(tp) / (tp + fn)\\n    sp = float(tn) / (tn + fp)\\n    return sn\\n\\n#define multiple metrcs to evaluate cross validation\\nscoring = {'AUC': 'roc_auc', 'Accuracy': 'accuracy', 'MCC': make_scorer(matthews_corrcoef),\\n           'sn': make_scorer(sn), 'sp': make_scorer(sp)}\\n\\n#scaling the data. here, we will use all the data, and not divide in train and test set\\nscaler_d = StandardScaler().fit_transform(fps_x)\\n\\n#ml = ShallowML(x_train=scaler_d, x_test=None, y_train=fps_y, y_test=None, report_name=None, columns_names=fps_x.columns)\\nscores = ml.cross_val_score_model(model_name = 'rf',model='rf', score=scoring, n_estimators=100, max_features='sqrt', cv=10, random_state=65)\\npd.DataFrame(scores)\\n\""
      ]
     },
     "execution_count": 8,
     "metadata": {},
     "output_type": "execute_result"
    }
   ],
   "source": [
    "'''\n",
    "# multiple metrics\n",
    "def sp(y_test, y_pred):\n",
    "    tn, fp, fn, tp = confusion_matrix(y_test, y_pred).ravel()\n",
    "    fdr = float(fp) / (tp + fp)\n",
    "    sn = float(tp) / (tp + fn)\n",
    "    sp = float(tn) / (tn + fp)\n",
    "    return sp\n",
    "\n",
    "\n",
    "def sn(y_test, y_pred):\n",
    "    tn, fp, fn, tp = confusion_matrix(y_test, y_pred).ravel()\n",
    "    fdr = float(fp) / (tp + fp)\n",
    "    sn = float(tp) / (tp + fn)\n",
    "    sp = float(tn) / (tn + fp)\n",
    "    return sn\n",
    "\n",
    "#define multiple metrcs to evaluate cross validation\n",
    "scoring = {'AUC': 'roc_auc', 'Accuracy': 'accuracy', 'MCC': make_scorer(matthews_corrcoef),\n",
    "           'sn': make_scorer(sn), 'sp': make_scorer(sp)}\n",
    "\n",
    "#scaling the data. here, we will use all the data, and not divide in train and test set\n",
    "scaler_d = StandardScaler().fit_transform(fps_x)\n",
    "\n",
    "#ml = ShallowML(x_train=scaler_d, x_test=None, y_train=fps_y, y_test=None, report_name=None, columns_names=fps_x.columns)\n",
    "scores = ml.cross_val_score_model(model_name = 'rf',model='rf', score=scoring, n_estimators=100, max_features='sqrt', cv=10, random_state=65)\n",
    "pd.DataFrame(scores)\n",
    "'''"
   ]
  },
  {
   "cell_type": "code",
   "execution_count": 12,
   "id": "8efa6b21",
   "metadata": {},
   "outputs": [
    {
     "name": "stdout",
     "output_type": "stream",
     "text": [
      "Model not supported, please choose between 'svm', 'sgd', 'linear_svm', 'lr', 'rf' or 'gboosting'\n",
      "sORCEREY IS THIS\n",
      "FUCK THIS SHIT\n"
     ]
    },
    {
     "ename": "AttributeError",
     "evalue": "'str' object has no attribute 'plot'",
     "output_type": "error",
     "traceback": [
      "\u001b[1;31m---------------------------------------------------------------------------\u001b[0m",
      "\u001b[1;31mAttributeError\u001b[0m                            Traceback (most recent call last)",
      "Cell \u001b[1;32mIn [12], line 3\u001b[0m\n\u001b[0;32m      1\u001b[0m df \u001b[38;5;241m=\u001b[39m ml\u001b[38;5;241m.\u001b[39mfeatures_importances_df(classifier\u001b[38;5;241m=\u001b[39mbest_rf_model, model_name \u001b[38;5;241m=\u001b[39m \u001b[38;5;124m'\u001b[39m\u001b[38;5;124mrf\u001b[39m\u001b[38;5;124m'\u001b[39m, top_features\u001b[38;5;241m=\u001b[39m\u001b[38;5;241m30\u001b[39m,column_to_sort\u001b[38;5;241m=\u001b[39m\u001b[38;5;124m'\u001b[39m\u001b[38;5;124mmean_coef\u001b[39m\u001b[38;5;124m'\u001b[39m)\n\u001b[1;32m----> 3\u001b[0m \u001b[43mml\u001b[49m\u001b[38;5;241;43m.\u001b[39;49m\u001b[43mfeatures_importances_plot\u001b[49m\u001b[43m(\u001b[49m\u001b[43mclassifier\u001b[49m\u001b[38;5;241;43m=\u001b[39;49m\u001b[43mbest_rf_model\u001b[49m\u001b[43m,\u001b[49m\u001b[43m \u001b[49m\u001b[43mtop_features\u001b[49m\u001b[38;5;241;43m=\u001b[39;49m\u001b[38;5;241;43m30\u001b[39;49m\u001b[43m,\u001b[49m\u001b[43m \u001b[49m\u001b[43mmodel_name\u001b[49m\u001b[38;5;241;43m=\u001b[39;49m\u001b[38;5;124;43m'\u001b[39;49m\u001b[38;5;124;43mrf\u001b[39;49m\u001b[38;5;124;43m'\u001b[39;49m\u001b[43m,\u001b[49m\n\u001b[0;32m      4\u001b[0m \u001b[43m                             \u001b[49m\u001b[43mcolumn_to_plot\u001b[49m\u001b[38;5;241;43m=\u001b[39;49m\u001b[38;5;28;43;01mNone\u001b[39;49;00m\u001b[43m,\u001b[49m\n\u001b[0;32m      5\u001b[0m \u001b[43m                             \u001b[49m\u001b[43mshow\u001b[49m\u001b[38;5;241;43m=\u001b[39;49m\u001b[38;5;28;43;01mTrue\u001b[39;49;00m\u001b[43m,\u001b[49m\u001b[43m \u001b[49m\u001b[43mpath_save\u001b[49m\u001b[38;5;241;43m=\u001b[39;49m\u001b[38;5;28;43;01mNone\u001b[39;49;00m\u001b[43m,\u001b[49m\n\u001b[0;32m      6\u001b[0m \u001b[43m                             \u001b[49m\u001b[43mtitle\u001b[49m\u001b[38;5;241;43m=\u001b[39;49m\u001b[38;5;28;43;01mNone\u001b[39;49;00m\u001b[43m,\u001b[49m\n\u001b[0;32m      7\u001b[0m \u001b[43m                             \u001b[49m\u001b[43mkind\u001b[49m\u001b[38;5;241;43m=\u001b[39;49m\u001b[38;5;124;43m'\u001b[39;49m\u001b[38;5;124;43mbarh\u001b[39;49m\u001b[38;5;124;43m'\u001b[39;49m\u001b[43m,\u001b[49m\u001b[43m \u001b[49m\u001b[43mfigsize\u001b[49m\u001b[38;5;241;43m=\u001b[39;49m\u001b[43m(\u001b[49m\u001b[38;5;241;43m9\u001b[39;49m\u001b[43m,\u001b[49m\u001b[43m \u001b[49m\u001b[38;5;241;43m7\u001b[39;49m\u001b[43m)\u001b[49m\u001b[43m,\u001b[49m\u001b[43m \u001b[49m\u001b[43mcolor\u001b[49m\u001b[38;5;241;43m=\u001b[39;49m\u001b[38;5;124;43m'\u001b[39;49m\u001b[38;5;124;43mr\u001b[39;49m\u001b[38;5;124;43m'\u001b[39;49m\u001b[43m,\u001b[49m\u001b[43m \u001b[49m\u001b[43medgecolor\u001b[49m\u001b[38;5;241;43m=\u001b[39;49m\u001b[38;5;124;43m'\u001b[39;49m\u001b[38;5;124;43mblack\u001b[39;49m\u001b[38;5;124;43m'\u001b[39;49m\u001b[43m,\u001b[49m\u001b[43mmodel\u001b[49m\u001b[43m \u001b[49m\u001b[38;5;241;43m=\u001b[39;49m\u001b[43m \u001b[49m\u001b[38;5;124;43m'\u001b[39;49m\u001b[38;5;124;43mrf\u001b[39;49m\u001b[38;5;124;43m'\u001b[39;49m\u001b[43m)\u001b[49m\n",
      "File \u001b[1;32m~\\AppData\\Local\\Programs\\Python\\Python310\\lib\\site-packages\\propythia\\shallow_ml.py:828\u001b[0m, in \u001b[0;36mShallowML.features_importances_plot\u001b[1;34m(self, classifier, top_features, model_name, column_to_plot, show, path_save, title, kind, figsize, color, edgecolor, **params)\u001b[0m\n\u001b[0;32m    826\u001b[0m plt\u001b[38;5;241m.\u001b[39maxvline(x\u001b[38;5;241m=\u001b[39m\u001b[38;5;241m0\u001b[39m, color\u001b[38;5;241m=\u001b[39m\u001b[38;5;124m'\u001b[39m\u001b[38;5;124m.5\u001b[39m\u001b[38;5;124m'\u001b[39m)\n\u001b[0;32m    827\u001b[0m plt\u001b[38;5;241m.\u001b[39msubplots_adjust(left\u001b[38;5;241m=\u001b[39m\u001b[38;5;241m.3\u001b[39m)\n\u001b[1;32m--> 828\u001b[0m \u001b[43mtable\u001b[49m\u001b[38;5;241;43m.\u001b[39;49m\u001b[43mplot\u001b[49m(kind\u001b[38;5;241m=\u001b[39mkind, figsize\u001b[38;5;241m=\u001b[39mfigsize, color\u001b[38;5;241m=\u001b[39mcolor, edgecolor\u001b[38;5;241m=\u001b[39medgecolor, linewidth\u001b[38;5;241m=\u001b[39mlinewidth, \u001b[38;5;241m*\u001b[39m\u001b[38;5;241m*\u001b[39mparams)\n\u001b[0;32m    830\u001b[0m plt\u001b[38;5;241m.\u001b[39mxlabel(label)\n\u001b[0;32m    831\u001b[0m plt\u001b[38;5;241m.\u001b[39mylabel(\u001b[38;5;124m'\u001b[39m\u001b[38;5;124mFeatures\u001b[39m\u001b[38;5;124m'\u001b[39m)\n",
      "\u001b[1;31mAttributeError\u001b[0m: 'str' object has no attribute 'plot'"
     ]
    },
    {
     "data": {
      "image/png": "[encoded data removed]",
      "text/plain": [
       "<Figure size 640x480 with 1 Axes>"
      ]
     },
     "metadata": {},
     "output_type": "display_data"
    }
   ],
   "source": [
    "df = ml.features_importances_df(classifier=best_rf_model, model_name = ['rf','svm,gboosting,svg'], top_features=30,column_to_sort='mean_coef')\n",
    "\n",
    "ml.features_importances_plot(classifier=best_rf_model, top_features=30, model_name='rf',\n",
    "                             column_to_plot=None,\n",
    "                             show=True, path_save=None,\n",
    "                             title=None,\n",
    "                             kind='barh', figsize=(9, 7), color='r', edgecolor='black',model = 'rf')\n",
    "#df[:30]\n",
    "\n"
   ]
  },
  {
   "cell_type": "code",
   "execution_count": 10,
   "id": "fbe2f0f6",
   "metadata": {},
   "outputs": [],
   "source": [
    "df"
   ]
  },
  {
   "cell_type": "code",
   "execution_count": 11,
   "id": "32ac71ba",
   "metadata": {},
   "outputs": [],
   "source": [
    "ar_data = pd.read_csv('real_datasets/ar_feat.csv')\n",
    "#AMP_data = AMP_data.drop({'Unnamed: 0'}, axis=1)\n",
    "ar_data['label'] = 1\n",
    "non_ar_data = pd.read_csv('real_datasets/non_ar_feat.csv')\n",
    "non_ar_data['label'] = 0\n",
    "\n",
    "dataset = pd.concat([ar_data, non_ar_data])  # (13072, 642)\n",
    "dataset = dataset.sample(frac = 1)\n"
   ]
  },
  {
   "cell_type": "code",
   "execution_count": null,
   "id": "48677158",
   "metadata": {},
   "outputs": [],
   "source": []
  }
 ],
 "metadata": {
  "kernelspec": {
   "display_name": "Python 3 (ipykernel)",
   "language": "python",
   "name": "python3"
  },
  "language_info": {
   "codemirror_mode": {
    "name": "ipython",
    "version": 3
   },
   "file_extension": ".py",
   "mimetype": "text/x-python",
   "name": "python",
   "nbconvert_exporter": "python",
   "pygments_lexer": "ipython3",
   "version": "3.10.6"
  }
 },
 "nbformat": 4,
 "nbformat_minor": 5
}
